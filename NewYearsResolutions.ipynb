{
 "cells": [
  {
   "cell_type": "markdown",
   "id": "a00b020d",
   "metadata": {},
   "source": [
    "_New Years Resolutions Analysis_\n",
    "\n",
    "- _Dataset: contains about 5000 tweets of New Years Resoltuions_\n",
    "- _Source: Kaggle_"
   ]
  },
  {
   "cell_type": "code",
   "execution_count": 4,
   "id": "76341601",
   "metadata": {},
   "outputs": [],
   "source": [
    "# Importing the libraries required\n",
    "import pandas as pd"
   ]
  },
  {
   "cell_type": "code",
   "execution_count": 5,
   "id": "e4a47155",
   "metadata": {},
   "outputs": [
    {
     "data": {
      "text/plain": [
       "(5002, 14)"
      ]
     },
     "execution_count": 5,
     "metadata": {},
     "output_type": "execute_result"
    }
   ],
   "source": [
    "# Reading the dataset and understanding its dimensions\n",
    "ny_resolutions = pd.read_csv('new_year_resolutions.csv', sep = ';')\n",
    "ny_resolutions.shape"
   ]
  },
  {
   "cell_type": "code",
   "execution_count": 6,
   "id": "4470fc19",
   "metadata": {},
   "outputs": [],
   "source": [
    "# Setting  custom index for the dataframe\n",
    "ny_resolutions.set_index('tweet_id', inplace = True)"
   ]
  },
  {
   "cell_type": "code",
   "execution_count": 7,
   "id": "3e50fc52",
   "metadata": {},
   "outputs": [
    {
     "data": {
      "text/plain": [
       "tweet_id\n",
       "5,50363E+17    #NewYearsResolution :: Read more books, No scr...\n",
       "5,50363E+17    #NewYearsResolution Finally master @ZJ10 's pa...\n",
       "5,50362E+17    #NewYearsResolution to stop being so damn perf...\n",
       "5,50362E+17    My #NewYearsResolution is to help my disabled ...\n",
       "5,50362E+17    #NewYearsResolution #2015Goals #2015bucketlist...\n",
       "                                     ...                        \n",
       "5,50346E+17    Tomorrow I start @JustifiedFX because @natalie...\n",
       "5,50347E+17    holy crap, people. EYES OPEN WHEN DRIVING. #Ne...\n",
       "5,50347E+17    RT @moJO_SHabby: Start parody of her blog #NYR...\n",
       "5,50348E+17    RT @kscmaghirang: To have an excellent job bef...\n",
       "5,50348E+17    RT @tompycan: #NewYearsResolution on Jan1: \"I'...\n",
       "Name: text, Length: 5002, dtype: object"
      ]
     },
     "execution_count": 7,
     "metadata": {},
     "output_type": "execute_result"
    }
   ],
   "source": [
    "ny_resolutions['text']"
   ]
  },
  {
   "cell_type": "code",
   "execution_count": null,
   "id": "fccf95d0",
   "metadata": {},
   "outputs": [],
   "source": []
  },
  {
   "cell_type": "code",
   "execution_count": null,
   "id": "238c1cad",
   "metadata": {},
   "outputs": [],
   "source": []
  }
 ],
 "metadata": {
  "kernelspec": {
   "display_name": "Python 3 (ipykernel)",
   "language": "python",
   "name": "python3"
  },
  "language_info": {
   "codemirror_mode": {
    "name": "ipython",
    "version": 3
   },
   "file_extension": ".py",
   "mimetype": "text/x-python",
   "name": "python",
   "nbconvert_exporter": "python",
   "pygments_lexer": "ipython3",
   "version": "3.9.10"
  }
 },
 "nbformat": 4,
 "nbformat_minor": 5
}
