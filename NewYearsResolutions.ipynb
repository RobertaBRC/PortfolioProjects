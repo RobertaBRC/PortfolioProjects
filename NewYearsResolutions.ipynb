{
 "cells": [
  {
   "cell_type": "markdown",
   "id": "a00b020d",
   "metadata": {},
   "source": [
    "### New Years Resolution Analysis\n",
    "\n",
    "- _Dataset from __Kaggle__: contains about 5000 tweets of New Years Resolutions_\n",
    "- _Tweet dates range from 2014-12-21 to 2015-01-02_"
   ]
  },
  {
   "cell_type": "code",
   "execution_count": 1,
   "id": "76341601",
   "metadata": {},
   "outputs": [],
   "source": [
    "# Importing the required libraries\n",
    "import pandas as pd\n",
    "import re\n",
    "import string\n",
    "from textblob import TextBlob\n",
    "from wordcloud import WordCloud, STOPWORDS\n",
    "import matplotlib.pyplot as plt\n",
    "import numpy as np\n",
    "from PIL import Image\n",
    "from nltk.corpus import stopwords"
   ]
  },
  {
   "cell_type": "code",
   "execution_count": 2,
   "id": "e4a47155",
   "metadata": {},
   "outputs": [
    {
     "data": {
      "text/plain": [
       "(5002, 14)"
      ]
     },
     "execution_count": 2,
     "metadata": {},
     "output_type": "execute_result"
    }
   ],
   "source": [
    "# Reading the dataset and understanding its dimensions\n",
    "ny_resolutions = pd.read_csv('new_year_resolutions.csv', sep = ';')\n",
    "ny_resolutions.shape"
   ]
  },
  {
   "cell_type": "code",
   "execution_count": 3,
   "id": "4a915483",
   "metadata": {},
   "outputs": [],
   "source": [
    "# Setting a custom index for the dataframe ('tweet_id')\n",
    "ny_resolutions.set_index('tweet_id', inplace = True)"
   ]
  },
  {
   "cell_type": "code",
   "execution_count": 4,
   "id": "4470fc19",
   "metadata": {},
   "outputs": [
    {
     "data": {
      "text/html": [
       "<div>\n",
       "<style scoped>\n",
       "    .dataframe tbody tr th:only-of-type {\n",
       "        vertical-align: middle;\n",
       "    }\n",
       "\n",
       "    .dataframe tbody tr th {\n",
       "        vertical-align: top;\n",
       "    }\n",
       "\n",
       "    .dataframe thead th {\n",
       "        text-align: right;\n",
       "    }\n",
       "</style>\n",
       "<table border=\"1\" class=\"dataframe\">\n",
       "  <thead>\n",
       "    <tr style=\"text-align: right;\">\n",
       "      <th></th>\n",
       "      <th>gender</th>\n",
       "      <th>resolution_category</th>\n",
       "      <th>retweet_count</th>\n",
       "      <th>text</th>\n",
       "    </tr>\n",
       "    <tr>\n",
       "      <th>tweet_id</th>\n",
       "      <th></th>\n",
       "      <th></th>\n",
       "      <th></th>\n",
       "      <th></th>\n",
       "    </tr>\n",
       "  </thead>\n",
       "  <tbody>\n",
       "    <tr>\n",
       "      <th>5,50363E+17</th>\n",
       "      <td>female</td>\n",
       "      <td>Health &amp; Fitness</td>\n",
       "      <td>0.0</td>\n",
       "      <td>#NewYearsResolution :: Read more books, No scr...</td>\n",
       "    </tr>\n",
       "    <tr>\n",
       "      <th>5,50363E+17</th>\n",
       "      <td>female</td>\n",
       "      <td>Humor</td>\n",
       "      <td>1.0</td>\n",
       "      <td>#NewYearsResolution Finally master @ZJ10 's pa...</td>\n",
       "    </tr>\n",
       "    <tr>\n",
       "      <th>5,50362E+17</th>\n",
       "      <td>male</td>\n",
       "      <td>Personal Growth</td>\n",
       "      <td>0.0</td>\n",
       "      <td>#NewYearsResolution to stop being so damn perf...</td>\n",
       "    </tr>\n",
       "    <tr>\n",
       "      <th>5,50362E+17</th>\n",
       "      <td>male</td>\n",
       "      <td>Philanthropic</td>\n",
       "      <td>0.0</td>\n",
       "      <td>My #NewYearsResolution is to help my disabled ...</td>\n",
       "    </tr>\n",
       "    <tr>\n",
       "      <th>5,50362E+17</th>\n",
       "      <td>female</td>\n",
       "      <td>Personal Growth</td>\n",
       "      <td>0.0</td>\n",
       "      <td>#NewYearsResolution #2015Goals #2015bucketlist...</td>\n",
       "    </tr>\n",
       "  </tbody>\n",
       "</table>\n",
       "</div>"
      ],
      "text/plain": [
       "             gender resolution_category  retweet_count  \\\n",
       "tweet_id                                                 \n",
       "5,50363E+17  female    Health & Fitness            0.0   \n",
       "5,50363E+17  female               Humor            1.0   \n",
       "5,50362E+17    male     Personal Growth            0.0   \n",
       "5,50362E+17    male       Philanthropic            0.0   \n",
       "5,50362E+17  female     Personal Growth            0.0   \n",
       "\n",
       "                                                          text  \n",
       "tweet_id                                                        \n",
       "5,50363E+17  #NewYearsResolution :: Read more books, No scr...  \n",
       "5,50363E+17  #NewYearsResolution Finally master @ZJ10 's pa...  \n",
       "5,50362E+17  #NewYearsResolution to stop being so damn perf...  \n",
       "5,50362E+17  My #NewYearsResolution is to help my disabled ...  \n",
       "5,50362E+17  #NewYearsResolution #2015Goals #2015bucketlist...  "
      ]
     },
     "execution_count": 4,
     "metadata": {},
     "output_type": "execute_result"
    }
   ],
   "source": [
    "# Selecting only the relevant columns\n",
    "ny_resolutions = ny_resolutions[['gender', 'resolution_category', 'retweet_count', 'text']]\n",
    "ny_resolutions.head()"
   ]
  },
  {
   "cell_type": "markdown",
   "id": "e0071066",
   "metadata": {},
   "source": [
    "---"
   ]
  },
  {
   "cell_type": "markdown",
   "id": "5ca0f7ba",
   "metadata": {},
   "source": [
    "Let's start by analysing the tweet's text"
   ]
  },
  {
   "cell_type": "code",
   "execution_count": 5,
   "id": "d2e91938",
   "metadata": {},
   "outputs": [
    {
     "data": {
      "text/plain": [
       "tweet_id\n",
       "5,50363E+17    NewYearsResolution Read books No scrolling FBc...\n",
       "5,50363E+17    NewYearsResolution Finally master part Kitchen...\n",
       "5,50362E+17                    NewYearsResolution stop damn perf\n",
       "5,50362E+17    My NewYearsResolution help disabled patients d...\n",
       "5,50362E+17    NewYearsResolution 2015Goals 2015bucketlist co...\n",
       "Name: text, dtype: object"
      ]
     },
     "execution_count": 5,
     "metadata": {},
     "output_type": "execute_result"
    }
   ],
   "source": [
    "# Removing '#', 'RT', hyperlinks, @mentions, punctuations, and stop words\n",
    "def cleanText(text):\n",
    "    text = re.sub(r'#', '', text)\n",
    "    text = re.sub(r'RT[\\s]+', '', text)\n",
    "    text = re.sub(r'https?:\\/\\/\\S+', '', text)\n",
    "    text = re.sub(r'@[a-zA-Z0-9]+', '', text)\n",
    "    text = text.translate(str.maketrans('', '', string.punctuation))\n",
    "    text = ' '.join([word for word in text.split() if word not in stopwords.words(\"english\")])\n",
    "    return text\n",
    "\n",
    "ny_resolutions['text'] = ny_resolutions['text'].apply(cleanText)\n",
    "ny_resolutions['text'].head()"
   ]
  },
  {
   "cell_type": "markdown",
   "id": "74584fb3",
   "metadata": {},
   "source": [
    "---"
   ]
  },
  {
   "cell_type": "markdown",
   "id": "dbf09bb2",
   "metadata": {},
   "source": [
    "Let's analyse the subjectivity and polarity of the tweet's text:\n",
    "- Subjectivity: ranges from 0 to 1, with 0 being objective and 1 being subjective\n",
    "- Polarity: ranges from -1 to 1, with -1 being negative and 1 being positive "
   ]
  },
  {
   "cell_type": "code",
   "execution_count": 6,
   "id": "44e73896",
   "metadata": {},
   "outputs": [
    {
     "data": {
      "text/html": [
       "<div>\n",
       "<style scoped>\n",
       "    .dataframe tbody tr th:only-of-type {\n",
       "        vertical-align: middle;\n",
       "    }\n",
       "\n",
       "    .dataframe tbody tr th {\n",
       "        vertical-align: top;\n",
       "    }\n",
       "\n",
       "    .dataframe thead th {\n",
       "        text-align: right;\n",
       "    }\n",
       "</style>\n",
       "<table border=\"1\" class=\"dataframe\">\n",
       "  <thead>\n",
       "    <tr style=\"text-align: right;\">\n",
       "      <th></th>\n",
       "      <th>text</th>\n",
       "      <th>subjectivity</th>\n",
       "      <th>polarity</th>\n",
       "    </tr>\n",
       "    <tr>\n",
       "      <th>tweet_id</th>\n",
       "      <th></th>\n",
       "      <th></th>\n",
       "      <th></th>\n",
       "    </tr>\n",
       "  </thead>\n",
       "  <tbody>\n",
       "    <tr>\n",
       "      <th>5,50363E+17</th>\n",
       "      <td>NewYearsResolution Read books No scrolling FBc...</td>\n",
       "      <td>0.000000</td>\n",
       "      <td>0.000</td>\n",
       "    </tr>\n",
       "    <tr>\n",
       "      <th>5,50363E+17</th>\n",
       "      <td>NewYearsResolution Finally master part Kitchen...</td>\n",
       "      <td>1.000000</td>\n",
       "      <td>0.000</td>\n",
       "    </tr>\n",
       "    <tr>\n",
       "      <th>5,50362E+17</th>\n",
       "      <td>NewYearsResolution stop damn perf</td>\n",
       "      <td>0.000000</td>\n",
       "      <td>0.000</td>\n",
       "    </tr>\n",
       "    <tr>\n",
       "      <th>5,50362E+17</th>\n",
       "      <td>My NewYearsResolution help disabled patients d...</td>\n",
       "      <td>0.510714</td>\n",
       "      <td>0.100</td>\n",
       "    </tr>\n",
       "    <tr>\n",
       "      <th>5,50362E+17</th>\n",
       "      <td>NewYearsResolution 2015Goals 2015bucketlist co...</td>\n",
       "      <td>0.000000</td>\n",
       "      <td>0.000</td>\n",
       "    </tr>\n",
       "    <tr>\n",
       "      <th>...</th>\n",
       "      <td>...</td>\n",
       "      <td>...</td>\n",
       "      <td>...</td>\n",
       "    </tr>\n",
       "    <tr>\n",
       "      <th>5,50346E+17</th>\n",
       "      <td>Tomorrow I start comes highly recommended NewY...</td>\n",
       "      <td>0.540000</td>\n",
       "      <td>0.160</td>\n",
       "    </tr>\n",
       "    <tr>\n",
       "      <th>5,50347E+17</th>\n",
       "      <td>holy crap people EYES OPEN WHEN DRIVING NewYea...</td>\n",
       "      <td>0.650000</td>\n",
       "      <td>-0.400</td>\n",
       "    </tr>\n",
       "    <tr>\n",
       "      <th>5,50347E+17</th>\n",
       "      <td>SHabby Start parody blog NYResolutions Start G...</td>\n",
       "      <td>0.950000</td>\n",
       "      <td>0.425</td>\n",
       "    </tr>\n",
       "    <tr>\n",
       "      <th>5,50348E+17</th>\n",
       "      <td>To excellent job graduation NewYearsResolution</td>\n",
       "      <td>1.000000</td>\n",
       "      <td>1.000</td>\n",
       "    </tr>\n",
       "    <tr>\n",
       "      <th>5,50348E+17</th>\n",
       "      <td>NewYearsResolution Jan1 Im really going get sh...</td>\n",
       "      <td>0.400000</td>\n",
       "      <td>0.350</td>\n",
       "    </tr>\n",
       "  </tbody>\n",
       "</table>\n",
       "<p>5002 rows × 3 columns</p>\n",
       "</div>"
      ],
      "text/plain": [
       "                                                          text  subjectivity  \\\n",
       "tweet_id                                                                       \n",
       "5,50363E+17  NewYearsResolution Read books No scrolling FBc...      0.000000   \n",
       "5,50363E+17  NewYearsResolution Finally master part Kitchen...      1.000000   \n",
       "5,50362E+17                  NewYearsResolution stop damn perf      0.000000   \n",
       "5,50362E+17  My NewYearsResolution help disabled patients d...      0.510714   \n",
       "5,50362E+17  NewYearsResolution 2015Goals 2015bucketlist co...      0.000000   \n",
       "...                                                        ...           ...   \n",
       "5,50346E+17  Tomorrow I start comes highly recommended NewY...      0.540000   \n",
       "5,50347E+17  holy crap people EYES OPEN WHEN DRIVING NewYea...      0.650000   \n",
       "5,50347E+17  SHabby Start parody blog NYResolutions Start G...      0.950000   \n",
       "5,50348E+17     To excellent job graduation NewYearsResolution      1.000000   \n",
       "5,50348E+17  NewYearsResolution Jan1 Im really going get sh...      0.400000   \n",
       "\n",
       "             polarity  \n",
       "tweet_id               \n",
       "5,50363E+17     0.000  \n",
       "5,50363E+17     0.000  \n",
       "5,50362E+17     0.000  \n",
       "5,50362E+17     0.100  \n",
       "5,50362E+17     0.000  \n",
       "...               ...  \n",
       "5,50346E+17     0.160  \n",
       "5,50347E+17    -0.400  \n",
       "5,50347E+17     0.425  \n",
       "5,50348E+17     1.000  \n",
       "5,50348E+17     0.350  \n",
       "\n",
       "[5002 rows x 3 columns]"
      ]
     },
     "execution_count": 6,
     "metadata": {},
     "output_type": "execute_result"
    }
   ],
   "source": [
    "# Creating functions to determine the Subjectivity and Polarity as well as creating new columns in the dataframe to include Subjectivity and Polarity\n",
    "def getSubjectivity(text):\n",
    "    return TextBlob(text).sentiment.subjectivity\n",
    "\n",
    "def getPolarity(text):\n",
    "    return TextBlob(text).sentiment.polarity\n",
    "\n",
    "ny_resolutions['subjectivity'] = ny_resolutions['text'].apply(getSubjectivity)\n",
    "ny_resolutions['polarity'] = ny_resolutions['text'].apply(getPolarity)\n",
    "\n",
    "ny_resolutions[['text', 'subjectivity', 'polarity']]"
   ]
  },
  {
   "cell_type": "code",
   "execution_count": 7,
   "id": "dc7fa238",
   "metadata": {},
   "outputs": [
    {
     "data": {
      "text/html": [
       "<div>\n",
       "<style scoped>\n",
       "    .dataframe tbody tr th:only-of-type {\n",
       "        vertical-align: middle;\n",
       "    }\n",
       "\n",
       "    .dataframe tbody tr th {\n",
       "        vertical-align: top;\n",
       "    }\n",
       "\n",
       "    .dataframe thead th {\n",
       "        text-align: right;\n",
       "    }\n",
       "</style>\n",
       "<table border=\"1\" class=\"dataframe\">\n",
       "  <thead>\n",
       "    <tr style=\"text-align: right;\">\n",
       "      <th></th>\n",
       "      <th>gender</th>\n",
       "      <th>resolution_category</th>\n",
       "      <th>retweet_count</th>\n",
       "      <th>text</th>\n",
       "      <th>subjectivity</th>\n",
       "      <th>polarity</th>\n",
       "      <th>sentiment</th>\n",
       "    </tr>\n",
       "    <tr>\n",
       "      <th>tweet_id</th>\n",
       "      <th></th>\n",
       "      <th></th>\n",
       "      <th></th>\n",
       "      <th></th>\n",
       "      <th></th>\n",
       "      <th></th>\n",
       "      <th></th>\n",
       "    </tr>\n",
       "  </thead>\n",
       "  <tbody>\n",
       "    <tr>\n",
       "      <th>5,50363E+17</th>\n",
       "      <td>female</td>\n",
       "      <td>Health &amp; Fitness</td>\n",
       "      <td>0.0</td>\n",
       "      <td>NewYearsResolution Read books No scrolling FBc...</td>\n",
       "      <td>0.000000</td>\n",
       "      <td>0.0</td>\n",
       "      <td>Neutral</td>\n",
       "    </tr>\n",
       "    <tr>\n",
       "      <th>5,50363E+17</th>\n",
       "      <td>female</td>\n",
       "      <td>Humor</td>\n",
       "      <td>1.0</td>\n",
       "      <td>NewYearsResolution Finally master part Kitchen...</td>\n",
       "      <td>1.000000</td>\n",
       "      <td>0.0</td>\n",
       "      <td>Neutral</td>\n",
       "    </tr>\n",
       "    <tr>\n",
       "      <th>5,50362E+17</th>\n",
       "      <td>male</td>\n",
       "      <td>Personal Growth</td>\n",
       "      <td>0.0</td>\n",
       "      <td>NewYearsResolution stop damn perf</td>\n",
       "      <td>0.000000</td>\n",
       "      <td>0.0</td>\n",
       "      <td>Neutral</td>\n",
       "    </tr>\n",
       "    <tr>\n",
       "      <th>5,50362E+17</th>\n",
       "      <td>male</td>\n",
       "      <td>Philanthropic</td>\n",
       "      <td>0.0</td>\n",
       "      <td>My NewYearsResolution help disabled patients d...</td>\n",
       "      <td>0.510714</td>\n",
       "      <td>0.1</td>\n",
       "      <td>Positive</td>\n",
       "    </tr>\n",
       "    <tr>\n",
       "      <th>5,50362E+17</th>\n",
       "      <td>female</td>\n",
       "      <td>Personal Growth</td>\n",
       "      <td>0.0</td>\n",
       "      <td>NewYearsResolution 2015Goals 2015bucketlist co...</td>\n",
       "      <td>0.000000</td>\n",
       "      <td>0.0</td>\n",
       "      <td>Neutral</td>\n",
       "    </tr>\n",
       "  </tbody>\n",
       "</table>\n",
       "</div>"
      ],
      "text/plain": [
       "             gender resolution_category  retweet_count  \\\n",
       "tweet_id                                                 \n",
       "5,50363E+17  female    Health & Fitness            0.0   \n",
       "5,50363E+17  female               Humor            1.0   \n",
       "5,50362E+17    male     Personal Growth            0.0   \n",
       "5,50362E+17    male       Philanthropic            0.0   \n",
       "5,50362E+17  female     Personal Growth            0.0   \n",
       "\n",
       "                                                          text  subjectivity  \\\n",
       "tweet_id                                                                       \n",
       "5,50363E+17  NewYearsResolution Read books No scrolling FBc...      0.000000   \n",
       "5,50363E+17  NewYearsResolution Finally master part Kitchen...      1.000000   \n",
       "5,50362E+17                  NewYearsResolution stop damn perf      0.000000   \n",
       "5,50362E+17  My NewYearsResolution help disabled patients d...      0.510714   \n",
       "5,50362E+17  NewYearsResolution 2015Goals 2015bucketlist co...      0.000000   \n",
       "\n",
       "             polarity sentiment  \n",
       "tweet_id                         \n",
       "5,50363E+17       0.0   Neutral  \n",
       "5,50363E+17       0.0   Neutral  \n",
       "5,50362E+17       0.0   Neutral  \n",
       "5,50362E+17       0.1  Positive  \n",
       "5,50362E+17       0.0   Neutral  "
      ]
     },
     "execution_count": 7,
     "metadata": {},
     "output_type": "execute_result"
    }
   ],
   "source": [
    "# Getting the sentiment associated with each tweet based on its polarity\n",
    "def getSentiment(polarity):\n",
    "    if polarity == 0:\n",
    "        return 'Neutral'\n",
    "    elif polarity < 0:\n",
    "        return 'Negative'\n",
    "    else:\n",
    "        return 'Positive'\n",
    "    \n",
    "ny_resolutions['sentiment'] = ny_resolutions['polarity'].apply(getSentiment)\n",
    "ny_resolutions.head()"
   ]
  },
  {
   "cell_type": "code",
   "execution_count": 9,
   "id": "3523b831",
   "metadata": {},
   "outputs": [
    {
     "name": "stdout",
     "output_type": "stream",
     "text": [
      "Positive    2529\n",
      "Neutral     1699\n",
      "Negative     774\n",
      "Name: sentiment, dtype: int64\n"
     ]
    },
    {
     "data": {
      "image/png": "[encoded data removed]",
      "text/plain": [
       "<Figure size 432x288 with 1 Axes>"
      ]
     },
     "metadata": {
      "needs_background": "light"
     },
     "output_type": "display_data"
    }
   ],
   "source": [
    "# Finding sentiment split and plotting its results\n",
    "sentimentSplit = ny_resolutions['sentiment'].value_counts()\n",
    "print(sentimentSplit)\n",
    "\n",
    "x = sentimentSplit.index\n",
    "h = sentimentSplit.values\n",
    "c = ['green', 'grey', 'red']\n",
    "\n",
    "plt.bar(x, height = h, color = c)\n",
    "plt.title('Number of tweets per sentiment status')\n",
    "plt.show()"
   ]
  },
  {
   "cell_type": "code",
   "execution_count": 10,
   "id": "9378c295",
   "metadata": {},
   "outputs": [
    {
     "data": {
      "text/plain": [
       "Positive    50.6\n",
       "Neutral     34.0\n",
       "Negative    15.5\n",
       "Name: sentiment, dtype: float64"
      ]
     },
     "execution_count": 10,
     "metadata": {},
     "output_type": "execute_result"
    }
   ],
   "source": [
    "# Finding sentiment split (percentage)\n",
    "sentimentPerc = round((sentimentSplit / ny_resolutions.shape[0]) * 100, 1)\n",
    "sentimentPerc"
   ]
  },
  {
   "cell_type": "code",
   "execution_count": 12,
   "id": "e9c4e726",
   "metadata": {
    "scrolled": true
   },
   "outputs": [
    {
     "data": {
      "image/png": "[encoded data removed]",
      "text/plain": [
       "<Figure size 576x432 with 1 Axes>"
      ]
     },
     "metadata": {
      "needs_background": "light"
     },
     "output_type": "display_data"
    }
   ],
   "source": [
    "# Visualising 'subjectivity' and polarity of the tweets\n",
    "plt.figure(figsize = (8,6))\n",
    "for i in range(0, ny_resolutions.shape[0]):\n",
    "    plt.scatter(ny_resolutions['polarity'][i], ny_resolutions['subjectivity'][i], color = 'Blue')\n",
    "plt.title('Tweets - Polarity vs. Subjectivity')\n",
    "plt.xlabel('Polarity (how negative or positive tweets are)')\n",
    "plt.ylabel('Subjectivity (how objective or subjective tweets are)')\n",
    "plt.show()"
   ]
  },
  {
   "cell_type": "code",
   "execution_count": 237,
   "id": "5a1654f3",
   "metadata": {},
   "outputs": [
    {
     "data": {
      "image/png": "[encoded data removed]",
      "text/plain": [
       "<Figure size 432x288 with 1 Axes>"
      ]
     },
     "metadata": {
      "needs_background": "light"
     },
     "output_type": "display_data"
    }
   ],
   "source": [
    "# Creating a word cloud to visualise the most commonly occuring words: for the purpose of this word cloud, let's remove the words in 'New Years Resolutions', which not surprisingly, are the most frequently occurring words\n",
    "\n",
    "allTweets = ' '.join([text for text in ny_resolutions['text']]).split()\n",
    "allTweets = [word for word in allTweets \n",
    "    if word.lower() not in('newyearsresolution', 'new', 'year', 'years', 'resolution', 'resolutions')]\n",
    "allTweets = ' '.join(allTweets)\n",
    "\n",
    "custom_mask = np.array(Image.open('image_word_cloud.png'))\n",
    "\n",
    "wordCloud = WordCloud(stopwords = STOPWORDS, mask = custom_mask, contour_color = 'orange', contour_width = 15, max_font_size = 200).generate(allTweets)\n",
    "plt.imshow(wordCloud, interpolation = 'bilinear')\n",
    "plt.axis('off')\n",
    "plt.show()"
   ]
  },
  {
   "cell_type": "markdown",
   "id": "bd5b1dac",
   "metadata": {},
   "source": [
    "---"
   ]
  },
  {
   "cell_type": "markdown",
   "id": "c099db72",
   "metadata": {},
   "source": [
    "Analysing individual words\n"
   ]
  },
  {
   "cell_type": "code",
   "execution_count": null,
   "id": "da96cfb2",
   "metadata": {},
   "outputs": [],
   "source": []
  },
  {
   "cell_type": "code",
   "execution_count": null,
   "id": "1062f367",
   "metadata": {},
   "outputs": [],
   "source": []
  },
  {
   "cell_type": "code",
   "execution_count": null,
   "id": "e0066ee4",
   "metadata": {},
   "outputs": [],
   "source": []
  }
 ],
 "metadata": {
  "kernelspec": {
   "display_name": "Python 3 (ipykernel)",
   "language": "python",
   "name": "python3"
  },
  "language_info": {
   "codemirror_mode": {
    "name": "ipython",
    "version": 3
   },
   "file_extension": ".py",
   "mimetype": "text/x-python",
   "name": "python",
   "nbconvert_exporter": "python",
   "pygments_lexer": "ipython3",
   "version": "3.9.7"
  }
 },
 "nbformat": 4,
 "nbformat_minor": 5
}
